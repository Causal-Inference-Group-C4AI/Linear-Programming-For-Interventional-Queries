{
 "cells": [
  {
   "cell_type": "markdown",
   "metadata": {},
   "source": [
    "## Simple Linear Optimization with Gurobi\n",
    " \n",
    "### Problem Statement\n",
    "A factory produces **two products: A and B**.  \n",
    "- Each product requires a certain amount of **resources**.  \n",
    "- The goal is to **maximize profit** under **resource constraints**.\n",
    "\n",
    "#### Objective:\n",
    "Maximize profit from selling products A and B.\n",
    " \n",
    "#### Constraints:\n",
    "1. The factory has **100 units of raw material** available.  \n",
    "2. Product A requires **1 unit** of raw material per unit produced.  \n",
    "3. Product B requires **2 units** of raw material per unit produced.  \n",
    "4. The profit per unit of **Product A** is **$3**, and for **Product B** it is **$5**."
   ]
  },
  {
   "cell_type": "code",
   "execution_count": 1,
   "metadata": {},
   "outputs": [
    {
     "name": "stdout",
     "output_type": "stream",
     "text": [
      "Restricted license - for non-production use only - expires 2026-11-23\n",
      "Gurobi Optimizer version 12.0.0 build v12.0.0rc1 (linux64 - \"Ubuntu 22.04.3 LTS\")\n",
      "\n",
      "CPU model: 13th Gen Intel(R) Core(TM) i7-1355U, instruction set [SSE2|AVX|AVX2]\n",
      "Thread count: 6 physical cores, 12 logical processors, using up to 12 threads\n",
      "\n",
      "Optimize a model with 1 rows, 2 columns and 2 nonzeros\n",
      "Model fingerprint: 0x1f4d7d11\n",
      "Coefficient statistics:\n",
      "  Matrix range     [1e+00, 2e+00]\n",
      "  Objective range  [3e+00, 5e+00]\n",
      "  Bounds range     [0e+00, 0e+00]\n",
      "  RHS range        [1e+02, 1e+02]\n",
      "Presolve removed 1 rows and 2 columns\n",
      "Presolve time: 0.03s\n",
      "Presolve: All rows and columns removed\n",
      "Iteration    Objective       Primal Inf.    Dual Inf.      Time\n",
      "       0    3.0000000e+02   0.000000e+00   0.000000e+00      0s\n",
      "\n",
      "Solved in 0 iterations and 0.04 seconds (0.00 work units)\n",
      "Optimal objective  3.000000000e+02\n",
      "Optimal Solution Found!\n",
      "Product_A: 100.0\n",
      "Product_B: 0.0\n",
      "Maximum Profit: $300.0\n"
     ]
    }
   ],
   "source": [
    "import gurobipy as gp\n",
    "from gurobipy import GRB\n",
    "\n",
    "# Create a new model\n",
    "model = gp.Model(\"simple_linear_optimization\")\n",
    "\n",
    "# Create variables\n",
    "# x = number of Product A to produce\n",
    "# y = number of Product B to produce\n",
    "x = model.addVar(name=\"Product_A\")\n",
    "y = model.addVar(name=\"Product_B\")\n",
    "\n",
    "# Set the objective function: Maximize profit\n",
    "# Profit = 3 * x + 5 * y\n",
    "model.setObjective(3 * x + 5 * y, GRB.MAXIMIZE)\n",
    "\n",
    "# Add constraints\n",
    "# 1 * x + 2 * y <= 100 (raw material constraint)\n",
    "model.addConstr(x + 2 * y <= 100, \"Raw_Material\")\n",
    "\n",
    "# Solve the model\n",
    "model.optimize()\n",
    "\n",
    "# Print the results\n",
    "if model.status == GRB.OPTIMAL:\n",
    "    print(\"Optimal Solution Found!\")\n",
    "    for var in model.getVars():\n",
    "        print(f\"{var.varName}: {var.x}\")\n",
    "    print(f\"Maximum Profit: ${model.objVal}\")\n",
    "else:\n",
    "    print(\"No optimal solution found.\")"
   ]
  },
  {
   "cell_type": "markdown",
   "metadata": {},
   "source": [
    "### Explanation of the Code\n",
    "\n",
    "| \t Component   |                   Explanation                   |\n",
    "| :------------: | :---------------------------------------------: |\n",
    "| gp.Model()     |\tCreates a new optimization model.              |\n",
    "| addVar()       |\tAdds decision variables (products A and B).    |\n",
    "| setObjective() |\tDefines the objective function to maximize.    |\n",
    "| addConstr()    |\tAdds constraints to the model.                 |\n",
    "| optimize()     |\tSolves the optimization problem.               |\n",
    "| getVars()      |\tRetrieves the optimal values of variables.     |\n",
    "| objVal         | \tGets the maximum profit value.                 |\n",
    "\n",
    "\n",
    "### Expected Solution\n",
    "```\n",
    "Optimal Solution Found!\n",
    "Product_A: 100.0\n",
    "Product_B: 0.0\n",
    "Maximum Profit: $300.0\n",
    "```\n",
    "\n",
    "### Interpretation of the Output\n",
    "*  Produce 100 units of Product A and 0 units of Product B to maximize profit.\n",
    "* The maximum profit is $300."
   ]
  },
  {
   "cell_type": "markdown",
   "metadata": {},
   "source": []
  }
 ],
 "metadata": {
  "kernelspec": {
   "display_name": "Python 3",
   "language": "python",
   "name": "python3"
  },
  "language_info": {
   "codemirror_mode": {
    "name": "ipython",
    "version": 3
   },
   "file_extension": ".py",
   "mimetype": "text/x-python",
   "name": "python",
   "nbconvert_exporter": "python",
   "pygments_lexer": "ipython3",
   "version": "3.10.12"
  }
 },
 "nbformat": 4,
 "nbformat_minor": 2
}
