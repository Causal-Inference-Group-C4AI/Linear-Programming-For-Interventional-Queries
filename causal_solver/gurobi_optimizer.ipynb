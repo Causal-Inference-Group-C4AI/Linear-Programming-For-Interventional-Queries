{
 "cells": [
  {
   "cell_type": "code",
   "execution_count": 1,
   "metadata": {},
   "outputs": [],
   "source": [
    "# Imports and Global Vars\n",
    "from gurobipy import Model, GRB"
   ]
  },
  {
   "cell_type": "markdown",
   "metadata": {},
   "source": [
    "## Linear Problems"
   ]
  },
  {
   "cell_type": "code",
   "execution_count": 3,
   "metadata": {},
   "outputs": [],
   "source": [
    "# Utils functions\n",
    "\n",
    "def add_linear_constraints(model: Model, n_vars: int, eq_restr: list[list[int]], valores_das_restr: list[int], vars):\n",
    "    n_rows = len(eq_restr)\n",
    "    n_columns = n_vars\n",
    "    for i in range(n_rows):\n",
    "        expression = 0\n",
    "        for j in range(n_columns):\n",
    "            expression += (eq_restr[i][j]*vars[i])\n",
    "        model.addConstr(valores_das_restr[i] <= expression, name=f\"constraint_{i}_lower\")\n",
    "        model.addConstr(expression <= valores_das_restr[i], name=f\"constraint_{i}_upper\")\n",
    "\n",
    "def set_min_linear_objective_function(model: Model, n_vars: int, func_obj: list[int], vars):\n",
    "    expression = 0\n",
    "    for i in range(n_vars):\n",
    "        expression += (func_obj[i]*vars[i])\n",
    "    model.setObjective(expression, GRB.MINIMIZE)\n",
    "\n",
    "def set_max_linear_objective_function(model: Model, n_vars: int, func_obj: list[int], vars):\n",
    "    expression = 0\n",
    "    for i in range(n_vars):\n",
    "        expression += (func_obj[i]*vars[i])\n",
    "    model.setObjective(expression, GRB.MAXIMIZE)"
   ]
  },
  {
   "cell_type": "code",
   "execution_count": 5,
   "metadata": {},
   "outputs": [],
   "source": [
    "# Core functions\n",
    "\n",
    "def min_optm(func_obj: list[int], eq_restr: list[list[int]], valores_das_restr: list[int]):\n",
    "    model = Model(\"Linear\")\n",
    "\n",
    "    n_vars = len(func_obj)\n",
    "    vars = model.addVars(n_vars, lb=0, ub=1, vtype=GRB.CONTINUOUS, name=\"vars\")\n",
    "\n",
    "    add_linear_constraints(model, n_vars, eq_restr, valores_das_restr, vars)\n",
    "\n",
    "    set_min_linear_objective_function(model, n_vars, func_obj, vars)\n",
    "\n",
    "    model.optimize()\n",
    "\n",
    "    if model.status == GRB.OPTIMAL:\n",
    "        print(f\"Minimal optimal solution found:\")\n",
    "        print(f\"Objective value = {model.ObjVal}\")\n",
    "    else:\n",
    "        print(\"No optimal solution found.\")\n",
    "\n",
    "def max_optm(func_obj: list[int], eq_restr: list[list[int]], valores_das_restr: list[int]):\n",
    "    model = Model(\"Linear\")\n",
    "\n",
    "    n_vars = len(func_obj)\n",
    "    vars = model.addVars(n_vars, lb=0, ub=1, vtype=GRB.CONTINUOUS, name=\"vars\")\n",
    "\n",
    "    add_linear_constraints(model, n_vars, eq_restr, valores_das_restr, vars)\n",
    "\n",
    "    set_max_linear_objective_function(model, n_vars, func_obj, vars)\n",
    "\n",
    "    model.optimize()\n",
    "\n",
    "    if model.status == GRB.OPTIMAL:\n",
    "        print(f\"Minimal optimal solution found:\")\n",
    "        print(f\"Objective value = {model.ObjVal}\")\n",
    "    else:\n",
    "        print(\"No optimal solution found.\")\n",
    "\n",
    "def optm(func_obj: list[int], eq_restr: list[list[int]], valores_das_restr: list[int]):\n",
    "    min_optm(func_obj, eq_restr, valores_das_restr)\n",
    "    max_optm(func_obj, eq_restr, valores_das_restr)\n"
   ]
  },
  {
   "cell_type": "markdown",
   "metadata": {},
   "source": [
    "### Examples"
   ]
  },
  {
   "cell_type": "markdown",
   "metadata": {},
   "source": []
  },
  {
   "cell_type": "markdown",
   "metadata": {},
   "source": [
    "## Non-Linear Problems"
   ]
  },
  {
   "cell_type": "markdown",
   "metadata": {},
   "source": []
  }
 ],
 "metadata": {
  "kernelspec": {
   "display_name": "Python 3",
   "language": "python",
   "name": "python3"
  },
  "language_info": {
   "codemirror_mode": {
    "name": "ipython",
    "version": 3
   },
   "file_extension": ".py",
   "mimetype": "text/x-python",
   "name": "python",
   "nbconvert_exporter": "python",
   "pygments_lexer": "ipython3",
   "version": "3.10.12"
  }
 },
 "nbformat": 4,
 "nbformat_minor": 2
}
